{
 "cells": [
  {
   "cell_type": "code",
   "execution_count": 3,
   "id": "563ac3ff",
   "metadata": {},
   "outputs": [],
   "source": [
    "import pandas as pd\n",
    "import os"
   ]
  },
  {
   "cell_type": "code",
   "execution_count": 4,
   "id": "a60fe383",
   "metadata": {},
   "outputs": [],
   "source": [
    "# First create a dictionary of empty lists which is a placeholder for each of the 40-ish columns\n",
    "\n",
    "cent_storage_cols = {'Data': list(), 'Scoretype': list(), 'Method': list(), 'NWEEKS': list(),\n",
    "                     'r': list(), 'fsval': list(), 'Fold': list(), 'TP': list(), 'BFP': list(), 'Sens': list(),\n",
    "                     'TP1': list(), 'TP2': list(), 'BFP1': list(), 'BFP2': list(), 'Sens1': list(),\n",
    "                    'Sens2': list()}\n",
    "\n",
    "\n",
    "# Create DataFrame and export\n",
    "\n",
    "central_data = pd.DataFrame(cent_storage_cols)\n",
    "central_data.to_csv('Central_Statistics.csv', index = False)"
   ]
  },
  {
   "cell_type": "code",
   "execution_count": null,
   "id": "f4f79ff0",
   "metadata": {},
   "outputs": [],
   "source": []
  }
 ],
 "metadata": {
  "kernelspec": {
   "display_name": "Python 3 (ipykernel)",
   "language": "python",
   "name": "python3"
  },
  "language_info": {
   "codemirror_mode": {
    "name": "ipython",
    "version": 3
   },
   "file_extension": ".py",
   "mimetype": "text/x-python",
   "name": "python",
   "nbconvert_exporter": "python",
   "pygments_lexer": "ipython3",
   "version": "3.9.7"
  }
 },
 "nbformat": 4,
 "nbformat_minor": 5
}
