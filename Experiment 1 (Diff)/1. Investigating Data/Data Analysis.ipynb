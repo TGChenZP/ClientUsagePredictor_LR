{
 "cells": [
  {
   "cell_type": "code",
   "execution_count": 45,
   "id": "9aac941d-837a-4b31-92da-8309e5fa48cb",
   "metadata": {},
   "outputs": [],
   "source": [
    "import pandas as pd\n",
    "import matplotlib.pyplot as plt\n",
    "import numpy as np"
   ]
  },
  {
   "cell_type": "code",
   "execution_count": 4,
   "id": "7b276d36-90be-49c9-b3eb-3915f839a787",
   "metadata": {},
   "outputs": [],
   "source": [
    "df = pd.read_csv('./Partial_Output/_3_combined_cleaned_data.csv')"
   ]
  },
  {
   "cell_type": "code",
   "execution_count": 25,
   "id": "0418f0d6-cd8e-4f65-a6e1-1e42ac3acca1",
   "metadata": {},
   "outputs": [],
   "source": [
    "df = df[df['Selfweeks'] > 26]"
   ]
  },
  {
   "cell_type": "code",
   "execution_count": 39,
   "id": "38e5103c-bb6c-417d-bb14-949cf5ed2f84",
   "metadata": {},
   "outputs": [],
   "source": [
    "data = pd.DataFrame()\n",
    "for domain, tmp in df.groupby('Domain'):\n",
    "    tmp.index = range(len(tmp))\n",
    "        \n",
    "    for i in range(len(tmp)-1, -1, -1):\n",
    "        if ((tmp.loc[i]['Assets']) | (tmp.loc[i]['Actions']) | (tmp.loc[i]['Competency']) |\n",
    "                (tmp.loc[i]['Form_record']) | (tmp.loc[i]['Form_template']) |\n",
    "                (tmp.loc[i]['Incident']) | (tmp.loc[i]['Users'])):\n",
    "            break\n",
    "        \n",
    "    data = pd.concat([data, tmp[0:i+1]])\n",
    "\n",
    "df = data"
   ]
  },
  {
   "cell_type": "code",
   "execution_count": 40,
   "id": "e94635a3-eb1c-4ad4-8209-e519143db322",
   "metadata": {},
   "outputs": [
    {
     "name": "stdout",
     "output_type": "stream",
     "text": [
      "Assets\n",
      "3.770732284396072\n",
      "Actions\n",
      "28.145569620253166\n",
      "Competency\n",
      "74.11209038211285\n",
      "Form_record\n",
      "158.46717141843132\n",
      "Form_template\n",
      "0.48497574825505735\n",
      "Incident\n",
      "4.848515320004732\n",
      "Users\n",
      "32.53738317757009\n",
      "Users_induction\n",
      "10.199514965101148\n",
      "Users_norm_emp\n",
      "8.979770495682006\n"
     ]
    }
   ],
   "source": [
    "for col in df.columns[4:-1]:\n",
    "    print(col)\n",
    "    print(df[col].mean())"
   ]
  },
  {
   "cell_type": "code",
   "execution_count": 41,
   "id": "2142e979-0e6a-4f29-ab85-520b1d302204",
   "metadata": {},
   "outputs": [
    {
     "name": "stdout",
     "output_type": "stream",
     "text": [
      "Assets\n",
      "0.0\n",
      "Actions\n",
      "1.0\n",
      "Competency\n",
      "0.0\n",
      "Form_record\n",
      "6.0\n",
      "Form_template\n",
      "0.0\n",
      "Incident\n",
      "0.0\n",
      "Users\n",
      "2.0\n",
      "Users_induction\n",
      "0.0\n",
      "Users_norm_emp\n",
      "1.0\n"
     ]
    }
   ],
   "source": [
    "for col in df.columns[4:-1]:\n",
    "    print(col)\n",
    "    print(df[col].median())"
   ]
  },
  {
   "cell_type": "code",
   "execution_count": 42,
   "id": "68acc383-2b84-4b1e-b834-ca6995cde115",
   "metadata": {},
   "outputs": [
    {
     "name": "stdout",
     "output_type": "stream",
     "text": [
      "Assets\n",
      "3795\n",
      "Actions\n",
      "968\n",
      "Competency\n",
      "50809\n",
      "Form_record\n",
      "5599\n",
      "Form_template\n",
      "1830\n",
      "Incident\n",
      "1480\n",
      "Users\n",
      "42560\n",
      "Users_induction\n",
      "3007\n",
      "Users_norm_emp\n",
      "3723\n"
     ]
    }
   ],
   "source": [
    "for col in df.columns[4:-1]:\n",
    "    print(col)\n",
    "    print(df[col].max())"
   ]
  },
  {
   "cell_type": "code",
   "execution_count": 46,
   "id": "6f0391ce-935b-4259-a5f8-88f2e5d66bd8",
   "metadata": {},
   "outputs": [
    {
     "name": "stdout",
     "output_type": "stream",
     "text": [
      "Assets\n",
      "0.0\n",
      "Actions\n",
      "15.0\n",
      "Competency\n",
      "37.0\n",
      "Form_record\n",
      "93.0\n",
      "Form_template\n",
      "0.0\n",
      "Incident\n",
      "4.0\n",
      "Users\n",
      "13.0\n",
      "Users_induction\n",
      "1.0\n",
      "Users_norm_emp\n",
      "5.0\n"
     ]
    }
   ],
   "source": [
    "for col in df.columns[4:-1]:\n",
    "    print(col)\n",
    "    print(np.quantile(df[col],0.75))"
   ]
  },
  {
   "cell_type": "code",
   "execution_count": 43,
   "id": "c9f6d67f-b2dc-4e6c-bead-c43aa62cd748",
   "metadata": {},
   "outputs": [
    {
     "data": {
      "text/plain": [
       "{'whiskers': [<matplotlib.lines.Line2D at 0x7fd10b297e20>,\n",
       "  <matplotlib.lines.Line2D at 0x7fd10b2a61f0>],\n",
       " 'caps': [<matplotlib.lines.Line2D at 0x7fd10b2a6580>,\n",
       "  <matplotlib.lines.Line2D at 0x7fd10b2a6910>],\n",
       " 'boxes': [<matplotlib.lines.Line2D at 0x7fd10b297a90>],\n",
       " 'medians': [<matplotlib.lines.Line2D at 0x7fd10b2a6ca0>],\n",
       " 'fliers': [<matplotlib.lines.Line2D at 0x7fd10b2b0070>],\n",
       " 'means': []}"
      ]
     },
     "execution_count": 43,
     "metadata": {},
     "output_type": "execute_result"
    },
    {
     "data": {
      "image/png": "[encoded data removed]",
      "text/plain": [
       "<Figure size 432x288 with 1 Axes>"
      ]
     },
     "metadata": {
      "needs_background": "light"
     },
     "output_type": "display_data"
    }
   ],
   "source": [
    "plt.boxplot(df['Assets'])"
   ]
  },
  {
   "cell_type": "code",
   "execution_count": 30,
   "id": "acb169e6-b1de-4b25-b10a-6a96d68784d1",
   "metadata": {},
   "outputs": [
    {
     "data": {
      "text/plain": [
       "{'whiskers': [<matplotlib.lines.Line2D at 0x7fd10b2ef280>,\n",
       "  <matplotlib.lines.Line2D at 0x7fd10b2ef610>],\n",
       " 'caps': [<matplotlib.lines.Line2D at 0x7fd10b2ef9a0>,\n",
       "  <matplotlib.lines.Line2D at 0x7fd10b2efd30>],\n",
       " 'boxes': [<matplotlib.lines.Line2D at 0x7fd10b2e2eb0>],\n",
       " 'medians': [<matplotlib.lines.Line2D at 0x7fd10b2fd100>],\n",
       " 'fliers': [<matplotlib.lines.Line2D at 0x7fd10b2fd490>],\n",
       " 'means': []}"
      ]
     },
     "execution_count": 30,
     "metadata": {},
     "output_type": "execute_result"
    },
    {
     "data": {
      "image/png": "[encoded data removed]",
      "text/plain": [
       "<Figure size 432x288 with 1 Axes>"
      ]
     },
     "metadata": {
      "needs_background": "light"
     },
     "output_type": "display_data"
    }
   ],
   "source": [
    "plt.boxplot(df['Actions'])"
   ]
  },
  {
   "cell_type": "code",
   "execution_count": 31,
   "id": "f5e5453b-cf93-46f5-a245-e60305605242",
   "metadata": {},
   "outputs": [
    {
     "data": {
      "text/plain": [
       "{'whiskers': [<matplotlib.lines.Line2D at 0x7fd0d868bc10>,\n",
       "  <matplotlib.lines.Line2D at 0x7fd0d868bfa0>],\n",
       " 'caps': [<matplotlib.lines.Line2D at 0x7fd0d869c370>,\n",
       "  <matplotlib.lines.Line2D at 0x7fd0d869c700>],\n",
       " 'boxes': [<matplotlib.lines.Line2D at 0x7fd0d868b880>],\n",
       " 'medians': [<matplotlib.lines.Line2D at 0x7fd0d869ca90>],\n",
       " 'fliers': [<matplotlib.lines.Line2D at 0x7fd0d869ce20>],\n",
       " 'means': []}"
      ]
     },
     "execution_count": 31,
     "metadata": {},
     "output_type": "execute_result"
    },
    {
     "data": {
      "image/png": "[encoded data removed]",
      "text/plain": [
       "<Figure size 432x288 with 1 Axes>"
      ]
     },
     "metadata": {
      "needs_background": "light"
     },
     "output_type": "display_data"
    }
   ],
   "source": [
    "plt.boxplot(df['Competency'])"
   ]
  },
  {
   "cell_type": "code",
   "execution_count": 32,
   "id": "e17c6233-da68-4552-901a-588d4dde3978",
   "metadata": {},
   "outputs": [
    {
     "data": {
      "text/plain": [
       "{'whiskers': [<matplotlib.lines.Line2D at 0x7fd0e93a4610>,\n",
       "  <matplotlib.lines.Line2D at 0x7fd0e93a49a0>],\n",
       " 'caps': [<matplotlib.lines.Line2D at 0x7fd0e93a4d30>,\n",
       "  <matplotlib.lines.Line2D at 0x7fd0f9150100>],\n",
       " 'boxes': [<matplotlib.lines.Line2D at 0x7fd0e93a4250>],\n",
       " 'medians': [<matplotlib.lines.Line2D at 0x7fd0f9150490>],\n",
       " 'fliers': [<matplotlib.lines.Line2D at 0x7fd0f9150820>],\n",
       " 'means': []}"
      ]
     },
     "execution_count": 32,
     "metadata": {},
     "output_type": "execute_result"
    },
    {
     "data": {
      "image/png": "[encoded data removed]",
      "text/plain": [
       "<Figure size 432x288 with 1 Axes>"
      ]
     },
     "metadata": {
      "needs_background": "light"
     },
     "output_type": "display_data"
    }
   ],
   "source": [
    "plt.boxplot(df['Form_record'])"
   ]
  },
  {
   "cell_type": "code",
   "execution_count": 33,
   "id": "bceff9b3-192d-450f-bd01-c2e7a0825c4e",
   "metadata": {},
   "outputs": [
    {
     "data": {
      "text/plain": [
       "{'whiskers': [<matplotlib.lines.Line2D at 0x7fd0e93c3fa0>,\n",
       "  <matplotlib.lines.Line2D at 0x7fd0e93d2370>],\n",
       " 'caps': [<matplotlib.lines.Line2D at 0x7fd0e93d2700>,\n",
       "  <matplotlib.lines.Line2D at 0x7fd0e93d2a90>],\n",
       " 'boxes': [<matplotlib.lines.Line2D at 0x7fd0e93c3c10>],\n",
       " 'medians': [<matplotlib.lines.Line2D at 0x7fd0e93d2e20>],\n",
       " 'fliers': [<matplotlib.lines.Line2D at 0x7fd0e93dd1f0>],\n",
       " 'means': []}"
      ]
     },
     "execution_count": 33,
     "metadata": {},
     "output_type": "execute_result"
    },
    {
     "data": {
      "image/png": "[encoded data removed]",
      "text/plain": [
       "<Figure size 432x288 with 1 Axes>"
      ]
     },
     "metadata": {
      "needs_background": "light"
     },
     "output_type": "display_data"
    }
   ],
   "source": [
    "plt.boxplot(df['Form_template'])"
   ]
  },
  {
   "cell_type": "code",
   "execution_count": 34,
   "id": "e07e9756-4648-43b3-b202-9f6012a01f08",
   "metadata": {},
   "outputs": [
    {
     "data": {
      "text/plain": [
       "{'whiskers': [<matplotlib.lines.Line2D at 0x7fd0f928a5b0>,\n",
       "  <matplotlib.lines.Line2D at 0x7fd0f928a940>],\n",
       " 'caps': [<matplotlib.lines.Line2D at 0x7fd0f928acd0>,\n",
       "  <matplotlib.lines.Line2D at 0x7fd0f92960a0>],\n",
       " 'boxes': [<matplotlib.lines.Line2D at 0x7fd0f928a220>],\n",
       " 'medians': [<matplotlib.lines.Line2D at 0x7fd0f9296430>],\n",
       " 'fliers': [<matplotlib.lines.Line2D at 0x7fd0f92967c0>],\n",
       " 'means': []}"
      ]
     },
     "execution_count": 34,
     "metadata": {},
     "output_type": "execute_result"
    },
    {
     "data": {
      "image/png": "[encoded data removed]",
      "text/plain": [
       "<Figure size 432x288 with 1 Axes>"
      ]
     },
     "metadata": {
      "needs_background": "light"
     },
     "output_type": "display_data"
    }
   ],
   "source": [
    "plt.boxplot(df['Incident'])"
   ]
  },
  {
   "cell_type": "code",
   "execution_count": 35,
   "id": "df18e3fb-287b-4ec7-9eb6-9c9bd25ceb68",
   "metadata": {},
   "outputs": [
    {
     "data": {
      "text/plain": [
       "{'whiskers': [<matplotlib.lines.Line2D at 0x7fd10b4eca30>,\n",
       "  <matplotlib.lines.Line2D at 0x7fd10b4ecdc0>],\n",
       " 'caps': [<matplotlib.lines.Line2D at 0x7fd0d86c9190>,\n",
       "  <matplotlib.lines.Line2D at 0x7fd0d86c9520>],\n",
       " 'boxes': [<matplotlib.lines.Line2D at 0x7fd10b4ec6a0>],\n",
       " 'medians': [<matplotlib.lines.Line2D at 0x7fd0d86c98b0>],\n",
       " 'fliers': [<matplotlib.lines.Line2D at 0x7fd0d86c9c40>],\n",
       " 'means': []}"
      ]
     },
     "execution_count": 35,
     "metadata": {},
     "output_type": "execute_result"
    },
    {
     "data": {
      "image/png": "[encoded data removed]",
      "text/plain": [
       "<Figure size 432x288 with 1 Axes>"
      ]
     },
     "metadata": {
      "needs_background": "light"
     },
     "output_type": "display_data"
    }
   ],
   "source": [
    "plt.boxplot(df['Users'])"
   ]
  },
  {
   "cell_type": "code",
   "execution_count": 36,
   "id": "1818e86b-7541-468d-82d3-8d470adde698",
   "metadata": {},
   "outputs": [
    {
     "data": {
      "text/plain": [
       "{'whiskers': [<matplotlib.lines.Line2D at 0x7fd0f90aad90>,\n",
       "  <matplotlib.lines.Line2D at 0x7fd0f90ba160>],\n",
       " 'caps': [<matplotlib.lines.Line2D at 0x7fd0f90ba4f0>,\n",
       "  <matplotlib.lines.Line2D at 0x7fd0f90ba880>],\n",
       " 'boxes': [<matplotlib.lines.Line2D at 0x7fd0f90aaa00>],\n",
       " 'medians': [<matplotlib.lines.Line2D at 0x7fd0f90bac10>],\n",
       " 'fliers': [<matplotlib.lines.Line2D at 0x7fd0f90bafa0>],\n",
       " 'means': []}"
      ]
     },
     "execution_count": 36,
     "metadata": {},
     "output_type": "execute_result"
    },
    {
     "data": {
      "image/png": "[encoded data removed]",
      "text/plain": [
       "<Figure size 432x288 with 1 Axes>"
      ]
     },
     "metadata": {
      "needs_background": "light"
     },
     "output_type": "display_data"
    }
   ],
   "source": [
    "plt.boxplot(df['Users_induction'])"
   ]
  },
  {
   "cell_type": "code",
   "execution_count": 37,
   "id": "829c7d27-3772-4f87-8d8a-2e9a9c511740",
   "metadata": {},
   "outputs": [
    {
     "data": {
      "text/plain": [
       "{'whiskers': [<matplotlib.lines.Line2D at 0x7fd0f9417d60>,\n",
       "  <matplotlib.lines.Line2D at 0x7fd0f9426130>],\n",
       " 'caps': [<matplotlib.lines.Line2D at 0x7fd0f94264c0>,\n",
       "  <matplotlib.lines.Line2D at 0x7fd0f9426850>],\n",
       " 'boxes': [<matplotlib.lines.Line2D at 0x7fd0f94179a0>],\n",
       " 'medians': [<matplotlib.lines.Line2D at 0x7fd0f9426be0>],\n",
       " 'fliers': [<matplotlib.lines.Line2D at 0x7fd0f9426f70>],\n",
       " 'means': []}"
      ]
     },
     "execution_count": 37,
     "metadata": {},
     "output_type": "execute_result"
    },
    {
     "data": {
      "image/png": "[encoded data removed]",
      "text/plain": [
       "<Figure size 432x288 with 1 Axes>"
      ]
     },
     "metadata": {
      "needs_background": "light"
     },
     "output_type": "display_data"
    }
   ],
   "source": [
    "plt.boxplot(df['Users_norm_emp'])"
   ]
  },
  {
   "cell_type": "code",
   "execution_count": null,
   "id": "967044c4-675b-4c14-ad6c-16cde42f762a",
   "metadata": {},
   "outputs": [],
   "source": []
  },
  {
   "cell_type": "code",
   "execution_count": null,
   "id": "9af9fa68-45bd-49ce-819a-d2fad0584692",
   "metadata": {},
   "outputs": [],
   "source": []
  },
  {
   "cell_type": "code",
   "execution_count": null,
   "id": "1d68ddc1-06ad-4b58-b081-eecdb4bcbc10",
   "metadata": {},
   "outputs": [],
   "source": []
  }
 ],
 "metadata": {
  "kernelspec": {
   "display_name": "Python 3 (ipykernel)",
   "language": "python",
   "name": "python3"
  },
  "language_info": {
   "codemirror_mode": {
    "name": "ipython",
    "version": 3
   },
   "file_extension": ".py",
   "mimetype": "text/x-python",
   "name": "python",
   "nbconvert_exporter": "python",
   "pygments_lexer": "ipython3",
   "version": "3.9.7"
  }
 },
 "nbformat": 4,
 "nbformat_minor": 5
}
