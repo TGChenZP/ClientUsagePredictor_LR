{
 "cells": [
  {
   "cell_type": "code",
   "execution_count": 5,
   "id": "651393f6-cdef-481b-8322-4c2fdf3d78db",
   "metadata": {},
   "outputs": [],
   "source": [
    "import pandas as pd\n",
    "from collections import defaultdict as dd"
   ]
  },
  {
   "cell_type": "code",
   "execution_count": 3,
   "id": "ab084b67-9bd5-4593-9a4d-2d420202483b",
   "metadata": {},
   "outputs": [],
   "source": [
    "df = pd.read_csv('./Partial_Output/_3_combined_cleaned_data.csv')"
   ]
  },
  {
   "cell_type": "code",
   "execution_count": 4,
   "id": "4a3d8320-e8e7-424c-aed2-78f5caa96962",
   "metadata": {},
   "outputs": [
    {
     "data": {
      "text/plain": [
       "Index(['ID', 'Domain', 'Week', 'Selfweeks', 'Assets', 'Actions', 'Competency',\n",
       "       'Form_record', 'Form_template', 'Incident', 'Users', 'Users_induction',\n",
       "       'Users_norm_emp', 'Prelim_action_score'],\n",
       "      dtype='object')"
      ]
     },
     "execution_count": 4,
     "metadata": {},
     "output_type": "execute_result"
    }
   ],
   "source": [
    "df.columns"
   ]
  },
  {
   "cell_type": "code",
   "execution_count": 37,
   "id": "f7af6a62-7789-4195-bab4-274fb5f6c1ab",
   "metadata": {},
   "outputs": [],
   "source": [
    "tally = dd(int)\n",
    "count = 0"
   ]
  },
  {
   "cell_type": "code",
   "execution_count": 38,
   "id": "820fba0b-61a4-4764-b60f-b887926ba967",
   "metadata": {},
   "outputs": [],
   "source": [
    "for domain, data in df.groupby('Domain'):\n",
    "    data.index = range(len(data))\n",
    "    count += 1\n",
    "    for col in data.columns[4:]:\n",
    "        switch = False\n",
    "        for i in range(len(data)):\n",
    "            if data.loc[i][col] != 0:\n",
    "                switch = True\n",
    "                break\n",
    "        if switch:\n",
    "            tally[col] += 1"
   ]
  },
  {
   "cell_type": "code",
   "execution_count": 39,
   "id": "ae581792-3432-433f-b200-e1abfac5a487",
   "metadata": {},
   "outputs": [
    {
     "data": {
      "text/plain": [
       "[('Users', 143),\n",
       " ('Users_norm_emp', 140),\n",
       " ('Prelim_action_score', 139),\n",
       " ('Actions', 132),\n",
       " ('Form_template', 119),\n",
       " ('Form_record', 117),\n",
       " ('Competency', 116),\n",
       " ('Users_induction', 110),\n",
       " ('Incident', 92),\n",
       " ('Assets', 83)]"
      ]
     },
     "execution_count": 39,
     "metadata": {},
     "output_type": "execute_result"
    }
   ],
   "source": [
    "sorted(tally.items(), key = lambda x:x[1], reverse = True)"
   ]
  },
  {
   "cell_type": "code",
   "execution_count": 40,
   "id": "3c9fdb89-38ef-4177-be1e-02df951f0d18",
   "metadata": {},
   "outputs": [
    {
     "data": {
      "text/plain": [
       "143"
      ]
     },
     "execution_count": 40,
     "metadata": {},
     "output_type": "execute_result"
    }
   ],
   "source": [
    "count"
   ]
  },
  {
   "cell_type": "code",
   "execution_count": 41,
   "id": "92129ce9-a6a4-42a8-95af-950a90566509",
   "metadata": {},
   "outputs": [
    {
     "name": "stdout",
     "output_type": "stream",
     "text": [
      "ahcs\n",
      "nielsen\n",
      "spotless\n",
      "wgccranes\n"
     ]
    }
   ],
   "source": [
    "for domain, data in df.groupby('Domain'):\n",
    "    data.index = range(len(data))\n",
    "    count += 1\n",
    "    for col in data.columns[-1:]:\n",
    "        switch = False\n",
    "        for i in range(len(data)):\n",
    "            if data.loc[i][col] != 0:\n",
    "                switch = True\n",
    "                break\n",
    "        if switch:\n",
    "            tally[col] += 1\n",
    "        else:\n",
    "            print(domain)"
   ]
  },
  {
   "cell_type": "code",
   "execution_count": null,
   "id": "c3084956-606d-412b-831b-0b6c681e8df4",
   "metadata": {},
   "outputs": [],
   "source": []
  },
  {
   "cell_type": "code",
   "execution_count": 49,
   "id": "cee1556f-97b7-4452-bf70-f9cb4f6dea60",
   "metadata": {},
   "outputs": [],
   "source": [
    "tally2 = dd(int)\n",
    "count2 = 20247 #without end0"
   ]
  },
  {
   "cell_type": "code",
   "execution_count": 50,
   "id": "d6a87a8f-b4a8-4f44-9485-259404d34ad6",
   "metadata": {},
   "outputs": [],
   "source": [
    "for col in df.columns[4:-1]:\n",
    "    for i in range(len(df)):\n",
    "        if df.loc[i][col] != 0:\n",
    "            tally2[col] += 1"
   ]
  },
  {
   "cell_type": "code",
   "execution_count": 51,
   "id": "eeea9c5f-082a-4d68-a2f6-0776cef85383",
   "metadata": {},
   "outputs": [
    {
     "data": {
      "text/plain": [
       "[('Users', 12587),\n",
       " ('Form_record', 11396),\n",
       " ('Users_norm_emp', 10241),\n",
       " ('Actions', 9807),\n",
       " ('Competency', 9301),\n",
       " ('Incident', 7630),\n",
       " ('Users_induction', 4954),\n",
       " ('Form_template', 2669),\n",
       " ('Assets', 2529)]"
      ]
     },
     "execution_count": 51,
     "metadata": {},
     "output_type": "execute_result"
    }
   ],
   "source": [
    "sorted(tally2.items(), key = lambda x:x[1], reverse = True)"
   ]
  },
  {
   "cell_type": "code",
   "execution_count": 52,
   "id": "fda5b58a-9599-446c-8370-3c0e767ac078",
   "metadata": {},
   "outputs": [
    {
     "data": {
      "text/plain": [
       "20247"
      ]
     },
     "execution_count": 52,
     "metadata": {},
     "output_type": "execute_result"
    }
   ],
   "source": [
    "count2"
   ]
  },
  {
   "cell_type": "code",
   "execution_count": null,
   "id": "7fa20900-eec0-4438-9db3-9783f4db2028",
   "metadata": {},
   "outputs": [],
   "source": []
  }
 ],
 "metadata": {
  "kernelspec": {
   "display_name": "Python 3 (ipykernel)",
   "language": "python",
   "name": "python3"
  },
  "language_info": {
   "codemirror_mode": {
    "name": "ipython",
    "version": 3
   },
   "file_extension": ".py",
   "mimetype": "text/x-python",
   "name": "python",
   "nbconvert_exporter": "python",
   "pygments_lexer": "ipython3",
   "version": "3.9.7"
  }
 },
 "nbformat": 4,
 "nbformat_minor": 5
}
